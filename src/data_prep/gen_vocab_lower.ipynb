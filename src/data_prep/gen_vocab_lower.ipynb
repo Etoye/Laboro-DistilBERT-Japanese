{
 "cells": [
  {
   "cell_type": "code",
   "execution_count": null,
   "metadata": {},
   "outputs": [],
   "source": [
    "import os\n"
   ]
  },
  {
   "cell_type": "code",
   "execution_count": null,
   "metadata": {},
   "outputs": [],
   "source": [
    "root_dir = os.path.abspath(os.path.join(os.getcwd(),os.pardir,os.pardir))\n"
   ]
  },
  {
   "cell_type": "code",
   "execution_count": null,
   "metadata": {},
   "outputs": [],
   "source": [
    "namco_path = os.path.join(root_dir,'model/namco_distilbert/')\n",
    "namco_vocab_path = os.path.join(namco_path,'vocab.txt')\n",
    "lower_vocab_path = os.path.join(namco_path,'vocab-lower.txt')\n",
    "\n",
    "upper_vocab = open(namco_vocab_path,encoding='utf8').readlines()\n",
    "with open(lower_vocab_path,'w',encoding='utf8') as output:\n",
    "  for n in range(len(upper_vocab)):\n",
    "    sp_token = upper_vocab[n].strip()\n",
    "    if sp_token in ['[CLS]', '[SEP]', '[MASK]', '[UNK]', '[PAD]']:\n",
    "      output_token = sp_token\n",
    "    elif sp_token.startswith('\\u2581'):\n",
    "      # e.g. \"▁word\" -> \"word\"\n",
    "      output_token = sp_token[1:].lower()\n",
    "    else:\n",
    "      output_token = sp_token.lower()\n",
    "\n",
    "    output.write(output_token + '\\n')\n"
   ]
  },
  {
   "cell_type": "code",
   "execution_count": null,
   "metadata": {},
   "outputs": [],
   "source": []
  }
 ],
 "metadata": {
  "kernelspec": {
   "display_name": "Python 3",
   "language": "python",
   "name": "python3"
  },
  "language_info": {
   "codemirror_mode": {
    "name": "ipython",
    "version": 3
   },
   "file_extension": ".py",
   "mimetype": "text/x-python",
   "name": "python",
   "nbconvert_exporter": "python",
   "pygments_lexer": "ipython3",
   "version": "3.7.4"
  }
 },
 "nbformat": 4,
 "nbformat_minor": 2
}
